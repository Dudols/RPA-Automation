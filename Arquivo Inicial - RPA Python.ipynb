{
 "cells": [
  {
   "cell_type": "markdown",
   "metadata": {},
   "source": [
    "# RPA com Python\n",
    "\n",
    "- Biblioteca usada:\n",
    "    - pip install pyautogui\n",
    "    - https://pyautogui.readthedocs.io/en/latest/\n",
    "        - Para os comandos de imagem pode ser que seja necessário instalar pip install pillow\n",
    "        - Para resolver problemas de caracteres especiais vamos usar um macete com a pyperclip\n",
    "        \n",
    "- Link com um resumo dos principais comandos: https://pyautogui.readthedocs.io/en/latest/quickstart.html"
   ]
  },
  {
   "cell_type": "markdown",
   "metadata": {},
   "source": [
    "## Desafio\n",
    "\n",
    "- Vamos automatizar a extração de informações de um sistema e envio de um relatório por e-mail\n",
    "- No nosso caso, para todo mundo conseguir fazer o mesmo programa, o nosso \"sistema\" vai ser o Gmail, mas o mesmo processo pode ser feito com qualquer programa do seu computador e qualquer sistema\n",
    "    - Passo 1: Entrar no sistema (entrar no Gmail)\n",
    "    - Passo 2: Entrar em uma aba específica do sistema onde tem o nosso relatório (Aba Contatos)\n",
    "    - Passo 3: Exportar o Relatório (Exportar Contatos)\n",
    "    - Passo 4: Pegar o relatório exportado, tratar e pegar as informações que queremos\n",
    "    - Passo 5: Preencher/Atualizar informações do sistema (No nosso caso, criar um e-mail e enviar)"
   ]
  },
  {
   "cell_type": "code",
   "execution_count": 21,
   "metadata": {},
   "outputs": [
    {
     "name": "stdout",
     "output_type": "stream",
     "text": [
      "No file found\n"
     ]
    }
   ],
   "source": [
    "import pyautogui\n",
    "import time\n",
    "from pathlib import Path\n",
    "import pandas as pd\n",
    "\n",
    "\n",
    "# cleaning up downloads folder in order to always read the latest file\n",
    "contacts_file = Path('d:/eduar/(D) Downloads/contacts.csv')\n",
    "if contacts_file.exists():\n",
    "    contacts_file.unlink()\n",
    "else:\n",
    "    print('No file found')\n",
    "\n",
    "# importing the new file\n",
    "if pyautogui.confirm(\"Python taking over. Don't screw this up!\") == 'OK':\n",
    "    pyautogui.PAUSE = 1\n",
    "    pyautogui.press('winleft')\n",
    "    pyautogui.write('opera gx')\n",
    "    pyautogui.press('enter')\n",
    "    pyautogui.write('https://mail.google.com/mail/u/2/#inbox')\n",
    "    pyautogui.press('enter')\n",
    "    try:\n",
    "        pyautogui.locateOnScreen('menu_google.PNG')\n",
    "    except:\n",
    "        time.sleep(2)\n",
    "    finally:\n",
    "        x, y, wide, height = pyautogui.locateOnScreen('menu_google.PNG')\n",
    "        pyautogui.click(x + wide/2, y + height/2)\n",
    "    try:\n",
    "        pyautogui.locateOnScreen('contacts_icon.PNG')\n",
    "    except:\n",
    "        time.sleep(2)\n",
    "    finally:\n",
    "        x, y, wide, height = pyautogui.locateOnScreen('contacts_icon.PNG')\n",
    "        pyautogui.click(x + wide/2, y + height/2)\n",
    "    try:\n",
    "        pyautogui.locateOnScreen('export_button.PNG')\n",
    "    except:\n",
    "        time.sleep(2)\n",
    "    finally:\n",
    "        x, y, wide, height = pyautogui.locateOnScreen('export_button.PNG')\n",
    "        pyautogui.click(x + wide/2, y + height/2)\n",
    "    try:\n",
    "        pyautogui.locateOnScreen('confirm_export_button.PNG')\n",
    "    except:\n",
    "        time.sleep(2)\n",
    "    finally:\n",
    "        x, y, wide, height = pyautogui.locateOnScreen('confirm_export_button.PNG')\n",
    "        pyautogui.click(x + wide/2, y + height/2)\n",
    "\n",
    "# cleaning contacts.csv file for relevant information only\n",
    "    df_contacts = pd.read_csv(contacts_file)\n",
    "    df_contacts = df_contacts[['First Name', 'Middle Name', 'Last Name', 'Organization Name', 'Organization Title', 'Organization Department', 'E-mail 1 - Value']]\n",
    "    df_contacts = df_contacts.rename(columns={'E-mail 1 - Value': 'E-mail'})\n",
    "    finish = pyautogui.alert('Python finished the extraction. Return to base!')\n",
    "\n",
    "# writing the email\n",
    "\n",
    "else:\n",
    "    print(\"You are not ready for Python dominance!\")"
   ]
  },
  {
   "cell_type": "markdown",
   "metadata": {},
   "source": [
    "### Agora vamos escrever o e-mail"
   ]
  },
  {
   "cell_type": "code",
   "execution_count": null,
   "metadata": {},
   "outputs": [],
   "source": []
  },
  {
   "cell_type": "markdown",
   "metadata": {},
   "source": [
    "### E se eu já tiver com a aba aberta, como que eu coloco ela na frente?"
   ]
  },
  {
   "cell_type": "code",
   "execution_count": 57,
   "metadata": {},
   "outputs": [],
   "source": []
  },
  {
   "cell_type": "markdown",
   "metadata": {},
   "source": [
    "### Como descobrir a posição do mouse do local que eu quero"
   ]
  },
  {
   "cell_type": "code",
   "execution_count": null,
   "metadata": {},
   "outputs": [],
   "source": []
  }
 ],
 "metadata": {
  "kernelspec": {
   "display_name": "Python 3",
   "language": "python",
   "name": "python3"
  },
  "language_info": {
   "codemirror_mode": {
    "name": "ipython",
    "version": 3
   },
   "file_extension": ".py",
   "mimetype": "text/x-python",
   "name": "python",
   "nbconvert_exporter": "python",
   "pygments_lexer": "ipython3",
   "version": "3.12.5"
  }
 },
 "nbformat": 4,
 "nbformat_minor": 4
}
