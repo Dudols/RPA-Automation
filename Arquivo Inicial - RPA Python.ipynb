{
 "cells": [
  {
   "cell_type": "markdown",
   "metadata": {},
   "source": [
    "# RPA com Python\n",
    "\n",
    "- Biblioteca usada:\n",
    "    - pip install pyautogui\n",
    "    - https://pyautogui.readthedocs.io/en/latest/\n",
    "        - Para os comandos de imagem pode ser que seja necessário instalar pip install pillow\n",
    "        - Para resolver problemas de caracteres especiais vamos usar um macete com a pyperclip\n",
    "        \n",
    "- Link com um resumo dos principais comandos: https://pyautogui.readthedocs.io/en/latest/quickstart.html"
   ]
  },
  {
   "cell_type": "markdown",
   "metadata": {},
   "source": [
    "## Desafio\n",
    "\n",
    "- Vamos automatizar a extração de informações de um sistema e envio de um relatório por e-mail\n",
    "- No nosso caso, para todo mundo conseguir fazer o mesmo programa, o nosso \"sistema\" vai ser o Gmail, mas o mesmo processo pode ser feito com qualquer programa do seu computador e qualquer sistema\n",
    "    - Passo 1: Entrar no sistema (entrar no Gmail)\n",
    "    - Passo 2: Entrar em uma aba específica do sistema onde tem o nosso relatório (Aba Contatos)\n",
    "    - Passo 3: Exportar o Relatório (Exportar Contatos)\n",
    "    - Passo 4: Pegar o relatório exportado, tratar e pegar as informações que queremos\n",
    "    - Passo 5: Preencher/Atualizar informações do sistema (No nosso caso, criar um e-mail e enviar)"
   ]
  },
  {
   "cell_type": "code",
   "execution_count": 22,
   "metadata": {},
   "outputs": [
    {
     "name": "stdout",
     "output_type": "stream",
     "text": [
      "No file found\n"
     ]
    },
    {
     "ename": "NameError",
     "evalue": "name 'text' is not defined",
     "output_type": "error",
     "traceback": [
      "\u001b[1;31m---------------------------------------------------------------------------\u001b[0m",
      "\u001b[1;31mNameError\u001b[0m                                 Traceback (most recent call last)",
      "Cell \u001b[1;32mIn[22], line 71\u001b[0m\n\u001b[0;32m     69\u001b[0m pyautogui\u001b[38;5;241m.\u001b[39mpress(\u001b[38;5;124m'\u001b[39m\u001b[38;5;124mtab\u001b[39m\u001b[38;5;124m'\u001b[39m)\n\u001b[0;32m     70\u001b[0m email_text \u001b[38;5;241m=\u001b[39m \u001b[38;5;124m\"\u001b[39m\u001b[38;5;124mJust testing if the automation is working. If you got this email, than it is!\u001b[39m\u001b[38;5;124m\"\u001b[39m\n\u001b[1;32m---> 71\u001b[0m pyperclip\u001b[38;5;241m.\u001b[39mcopy(\u001b[43mtext\u001b[49m)\n\u001b[0;32m     72\u001b[0m pyautogui\u001b[38;5;241m.\u001b[39mhotkey(\u001b[38;5;124m'\u001b[39m\u001b[38;5;124mctrl\u001b[39m\u001b[38;5;124m'\u001b[39m, \u001b[38;5;124m'\u001b[39m\u001b[38;5;124mv\u001b[39m\u001b[38;5;124m'\u001b[39m)\n\u001b[0;32m     73\u001b[0m pyautogui\u001b[38;5;241m.\u001b[39mwrite(\u001b[38;5;124m\"\u001b[39m\u001b[38;5;124mJust testing if the automation is working. If you got this email, than it is!\u001b[39m\u001b[38;5;124m\"\u001b[39m)\n",
      "\u001b[1;31mNameError\u001b[0m: name 'text' is not defined"
     ]
    }
   ],
   "source": [
    "import pyautogui\n",
    "import time\n",
    "from pathlib import Path\n",
    "import pandas as pd\n",
    "import pyperclip\n",
    "\n",
    "\n",
    "# cleaning up downloads folder in order to always read the latest file\n",
    "contacts_file = Path('d:/eduar/(D) Downloads/contacts.csv')\n",
    "if contacts_file.exists():\n",
    "    contacts_file.unlink()\n",
    "else:\n",
    "    print('No file found')\n",
    "\n",
    "# importing the new file\n",
    "if pyautogui.confirm(\"Python taking over. Don't screw this up!\") == 'OK':\n",
    "    pyautogui.PAUSE = 0.5\n",
    "    pyautogui.press('winleft')\n",
    "    pyautogui.write('opera gx')\n",
    "    pyautogui.press('enter')\n",
    "    pyautogui.write('https://mail.google.com/mail/u/2/#inbox')\n",
    "    pyautogui.press('enter')\n",
    "    try:\n",
    "        pyautogui.locateOnScreen('menu_google.PNG')\n",
    "    except:\n",
    "        time.sleep(2)\n",
    "    finally:\n",
    "        x, y, wide, height = pyautogui.locateOnScreen('menu_google.PNG')\n",
    "        pyautogui.click(x + wide/2, y + height/2)\n",
    "    try:\n",
    "        pyautogui.locateOnScreen('contacts_icon.PNG')\n",
    "    except:\n",
    "        time.sleep(2)\n",
    "    finally:\n",
    "        x, y, wide, height = pyautogui.locateOnScreen('contacts_icon.PNG')\n",
    "        pyautogui.click(x + wide/2, y + height/2)\n",
    "    try:\n",
    "        pyautogui.locateOnScreen('export_button.PNG')\n",
    "    except:\n",
    "        time.sleep(2)\n",
    "    finally:\n",
    "        x, y, wide, height = pyautogui.locateOnScreen('export_button.PNG')\n",
    "        pyautogui.click(x + wide/2, y + height/2)\n",
    "    try:\n",
    "        pyautogui.locateOnScreen('confirm_export_button.PNG')\n",
    "    except:\n",
    "        time.sleep(2)\n",
    "    finally:\n",
    "        x, y, wide, height = pyautogui.locateOnScreen('confirm_export_button.PNG')\n",
    "        pyautogui.click(x + wide/2, y + height/2)\n",
    "\n",
    "# cleaning contacts.csv file for relevant information only\n",
    "    while not contacts_file.exists() == True:\n",
    "        time.sleep(.5)\n",
    "    df_contacts = pd.read_csv(contacts_file)\n",
    "    df_contacts = df_contacts[['First Name', 'Middle Name', 'Last Name', 'Organization Name', 'Organization Title', 'Organization Department', 'E-mail 1 - Value']]\n",
    "    df_contacts = df_contacts.rename(columns={'E-mail 1 - Value': 'E-mail'})\n",
    "\n",
    "    # writing the emails\n",
    "    pyautogui.PAUSE = 1\n",
    "    pyautogui.hotkey('ctrl', 'pageup')\n",
    "    for email in df_contacts['E-mail']:\n",
    "        x, y, wide, height = pyautogui.locateOnScreen('compose_button.PNG')\n",
    "        pyautogui.click(x + wide/2, y + height/2)\n",
    "        pyautogui.write(email)\n",
    "        for i in range(2):  # necessary due to gmail contacts list recognition, where you need to select the contact\n",
    "            pyautogui.press('tab')\n",
    "        pyautogui.write(\"Hey, it's me again :)\")\n",
    "        pyautogui.press('tab')\n",
    "        email_text = \"Just testing if the automation is working. If you got this email, than it is!\"\n",
    "        pyperclip.copy(text)\n",
    "        pyautogui.hotkey('ctrl', 'v')\n",
    "        pyautogui.write(\"Just testing if the automation is working. If you got this email, than it is!\")\n",
    "        pyautogui.press('tab')\n",
    "        try:\n",
    "            pyautogui.locateOnScreen('send_button.PNG')\n",
    "        except:\n",
    "            time.sleep(2)\n",
    "        finally:\n",
    "            x, y, wide, height = pyautogui.locateOnScreen('send_button.PNG') # ctrl-enter hotkey shortcut for gmail not working, idk why\n",
    "            pyautogui.click(x + wide/2, y + height/2, clicks=2)\n",
    "    \n",
    "    finish = pyautogui.alert('Python finished the extraction. Return to base!')\n",
    "else:\n",
    "    print(\"You are not ready for Python dominance!\")"
   ]
  },
  {
   "cell_type": "markdown",
   "metadata": {},
   "source": [
    "### Agora vamos escrever o e-mail"
   ]
  },
  {
   "cell_type": "code",
   "execution_count": null,
   "metadata": {},
   "outputs": [],
   "source": []
  },
  {
   "cell_type": "markdown",
   "metadata": {},
   "source": [
    "### E se eu já tiver com a aba aberta, como que eu coloco ela na frente?"
   ]
  },
  {
   "cell_type": "code",
   "execution_count": 57,
   "metadata": {},
   "outputs": [],
   "source": []
  },
  {
   "cell_type": "markdown",
   "metadata": {},
   "source": [
    "### Como descobrir a posição do mouse do local que eu quero"
   ]
  },
  {
   "cell_type": "code",
   "execution_count": null,
   "metadata": {},
   "outputs": [],
   "source": []
  }
 ],
 "metadata": {
  "kernelspec": {
   "display_name": "Python 3",
   "language": "python",
   "name": "python3"
  },
  "language_info": {
   "codemirror_mode": {
    "name": "ipython",
    "version": 3
   },
   "file_extension": ".py",
   "mimetype": "text/x-python",
   "name": "python",
   "nbconvert_exporter": "python",
   "pygments_lexer": "ipython3",
   "version": "3.12.5"
  }
 },
 "nbformat": 4,
 "nbformat_minor": 4
}
