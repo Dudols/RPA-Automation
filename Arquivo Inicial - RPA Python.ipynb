{
 "cells": [
  {
   "cell_type": "markdown",
   "metadata": {},
   "source": [
    "# RPA com Python\n",
    "\n",
    "- O que é RPA?\n",
    "- Por que isso é diferente de Selenium/Web-Scraping e do que vimos até agora?\n",
    "    - Pontos Positivos\n",
    "    - Pontos Negativos\n",
    "- Biblioteca usada:\n",
    "    - pip install pyautogui\n",
    "    - https://pyautogui.readthedocs.io/en/latest/\n",
    "        - Para os comandos de imagem pode ser que seja necessário instalar pip install pillow\n",
    "        - Para resolver problemas de caracteres especiais vamos usar um macete com a pyperclip\n",
    "        \n",
    "- Link com um resumo dos principais comandos: https://pyautogui.readthedocs.io/en/latest/quickstart.html"
   ]
  },
  {
   "cell_type": "markdown",
   "metadata": {},
   "source": [
    "## Desafio\n",
    "\n",
    "- Vamos automatizar a extração de informações de um sistema e envio de um relatório por e-mail\n",
    "- No nosso caso, para todo mundo conseguir fazer o mesmo programa, o nosso \"sistema\" vai ser o Gmail, mas o mesmo processo pode ser feito com qualquer programa do seu computador e qualquer sistema\n",
    "    - Passo 1: Entrar no sistema (entrar no Gmail)\n",
    "    - Passo 2: Entrar em uma aba específica do sistema onde tem o nosso relatório (Aba Contatos)\n",
    "    - Passo 3: Exportar o Relatório (Exportar Contatos)\n",
    "    - Passo 4: Pegar o relatório exportado, tratar e pegar as informações que queremos\n",
    "    - Passo 5: Preencher/Atualizar informações do sistema (No nosso caso, criar um e-mail e enviar)"
   ]
  },
  {
   "cell_type": "code",
   "execution_count": 92,
   "metadata": {},
   "outputs": [],
   "source": []
  },
  {
   "cell_type": "markdown",
   "metadata": {},
   "source": [
    "### Agora vamos escrever o e-mail"
   ]
  },
  {
   "cell_type": "code",
   "execution_count": null,
   "metadata": {},
   "outputs": [],
   "source": []
  },
  {
   "cell_type": "markdown",
   "metadata": {},
   "source": [
    "### E se eu já tiver com a aba aberta, como que eu coloco ela na frente?"
   ]
  },
  {
   "cell_type": "code",
   "execution_count": 57,
   "metadata": {},
   "outputs": [],
   "source": []
  },
  {
   "cell_type": "markdown",
   "metadata": {},
   "source": [
    "### Como descobrir a posição do mouse do local que eu quero"
   ]
  },
  {
   "cell_type": "code",
   "execution_count": null,
   "metadata": {},
   "outputs": [],
   "source": []
  }
 ],
 "metadata": {
  "kernelspec": {
   "display_name": "Python 3",
   "language": "python",
   "name": "python3"
  },
  "language_info": {
   "codemirror_mode": {
    "name": "ipython",
    "version": 3
   },
   "file_extension": ".py",
   "mimetype": "text/x-python",
   "name": "python",
   "nbconvert_exporter": "python",
   "pygments_lexer": "ipython3",
   "version": "3.12.5"
  }
 },
 "nbformat": 4,
 "nbformat_minor": 4
}
